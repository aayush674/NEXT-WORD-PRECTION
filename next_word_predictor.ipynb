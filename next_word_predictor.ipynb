{
 "cells": [
  {
   "cell_type": "code",
   "execution_count": 1,
   "metadata": {},
   "outputs": [
    {
     "name": "stdout",
     "output_type": "stream",
     "text": [
      "Epoch 1/5\n"
     ]
    },
    {
     "name": "stderr",
     "output_type": "stream",
     "text": [
      "c:\\Users\\anand\\AppData\\Local\\Programs\\Python\\Python311\\Lib\\site-packages\\keras\\src\\layers\\core\\embedding.py:90: UserWarning: Argument `input_length` is deprecated. Just remove it.\n",
      "  warnings.warn(\n"
     ]
    },
    {
     "name": "stdout",
     "output_type": "stream",
     "text": [
      "\u001b[1m5547/5547\u001b[0m \u001b[32m━━━━━━━━━━━━━━━━━━━━\u001b[0m\u001b[37m\u001b[0m \u001b[1m1440s\u001b[0m 259ms/step - accuracy: 0.0675 - loss: 7.4461\n",
      "Epoch 2/5\n",
      "\u001b[1m5547/5547\u001b[0m \u001b[32m━━━━━━━━━━━━━━━━━━━━\u001b[0m\u001b[37m\u001b[0m \u001b[1m44498s\u001b[0m 8s/step - accuracy: 0.1246 - loss: 6.2130\n",
      "Epoch 3/5\n",
      "\u001b[1m5547/5547\u001b[0m \u001b[32m━━━━━━━━━━━━━━━━━━━━\u001b[0m\u001b[37m\u001b[0m \u001b[1m2169s\u001b[0m 391ms/step - accuracy: 0.1543 - loss: 5.6561\n",
      "Epoch 4/5\n",
      "\u001b[1m5547/5547\u001b[0m \u001b[32m━━━━━━━━━━━━━━━━━━━━\u001b[0m\u001b[37m\u001b[0m \u001b[1m906s\u001b[0m 163ms/step - accuracy: 0.1773 - loss: 5.1647\n",
      "Epoch 5/5\n",
      "\u001b[1m5547/5547\u001b[0m \u001b[32m━━━━━━━━━━━━━━━━━━━━\u001b[0m\u001b[37m\u001b[0m \u001b[1m1604s\u001b[0m 289ms/step - accuracy: 0.2075 - loss: 4.6827\n"
     ]
    },
    {
     "name": "stderr",
     "output_type": "stream",
     "text": [
      "WARNING:absl:You are saving your model as an HDF5 file via `model.save()` or `keras.saving.save_model(model)`. This file format is considered legacy. We recommend using instead the native Keras format, e.g. `model.save('my_model.keras')` or `keras.saving.save_model(model, 'my_model.keras')`. \n"
     ]
    }
   ],
   "source": [
    "import tensorflow as tf\n",
    "from tensorflow.keras.preprocessing.text import Tokenizer\n",
    "from tensorflow.keras.layers import Embedding, LSTM, Dense\n",
    "from tensorflow.keras.models import Sequential\n",
    "from tensorflow.keras.preprocessing.sequence import pad_sequences\n",
    "from scipy.sparse import csr_matrix\n",
    "import numpy as np\n",
    "import pickle\n",
    "\n",
    "# Load and preprocess the text data\n",
    "with open('Avatar1.txt', 'r', encoding='utf-8') as myfile:\n",
    "    mytext = myfile.read()\n",
    "\n",
    "mytext = mytext.replace('\\ufeff', ' ').replace('\\t', '').replace('\"', '').replace('\"', '').replace(':', '').replace('_', '').replace(',', '')\n",
    "\n",
    "mytokenizer = Tokenizer()\n",
    "mytokenizer.fit_on_texts([mytext])\n",
    "total_words = len(mytokenizer.word_index) + 1\n",
    "\n",
    "input_sequences = []\n",
    "for line in mytext.split('\\n'):\n",
    "    token_list = mytokenizer.texts_to_sequences([line])[0]\n",
    "    for i in range(1, len(token_list)):\n",
    "        seq = token_list[:i + 1]\n",
    "        input_sequences.append(seq)\n",
    "\n",
    "max_seq_len = max([len(seq) for seq in input_sequences])\n",
    "input_seq = np.array(pad_sequences(input_sequences, maxlen=max_seq_len, padding='pre'))\n",
    "\n",
    "x = input_seq[:, :-1]\n",
    "y = input_seq[:, -1]\n",
    "y_sparse = csr_matrix((np.ones(len(y)), (np.arange(len(y)), y)), shape=(len(y), total_words))\n",
    "\n",
    "# Build and train the model\n",
    "model = Sequential()\n",
    "model.add(Embedding(total_words, 100, input_length=max_seq_len - 1))\n",
    "model.add(LSTM(150))\n",
    "model.add(Dense(total_words, activation='softmax'))\n",
    "model.compile(loss='categorical_crossentropy', optimizer='adam', metrics=['accuracy'])\n",
    "\n",
    "# Use batch generator to fit the model\n",
    "def batch_generator(x, y_sparse, batch_size=32):\n",
    "    while True:\n",
    "        indices = np.arange(x.shape[0])\n",
    "        np.random.shuffle(indices)\n",
    "        for i in range(0, x.shape[0], batch_size):\n",
    "            batch_indices = indices[i:i + batch_size]\n",
    "            x_batch = x[batch_indices]\n",
    "            y_batch = y_sparse[batch_indices].toarray()\n",
    "            yield x_batch, y_batch\n",
    "\n",
    "batch_size = 32\n",
    "steps_per_epoch = x.shape[0] // batch_size\n",
    "\n",
    "model.fit(batch_generator(x, y_sparse, batch_size), steps_per_epoch=steps_per_epoch, epochs=5, verbose=1)\n",
    "\n",
    "# Save the model\n",
    "model.save('next_word_predictor.h5')\n",
    "\n",
    "# Save the tokenizer\n",
    "with open('tokenizer.pkl', 'wb') as handle:\n",
    "    pickle.dump(mytokenizer, handle, protocol=pickle.HIGHEST_PROTOCOL)\n",
    "\n",
    "# Function to predict the next words and generate multiple suggestions\n",
    "def predict_next_words(model, tokenizer, text, max_seq_len, num_suggestions=3):\n",
    "    token_list = tokenizer.texts_to_sequences([text])[0]\n",
    "    token_list = pad_sequences([token_list], maxlen=max_seq_len-1, padding='pre')\n",
    "    predicted_probs = model.predict(token_list, verbose=0)[0]\n",
    "    predicted_indices = np.argsort(predicted_probs)[-num_suggestions:][::-1]\n",
    "    \n",
    "    suggestions = []\n",
    "    for index in predicted_indices:\n",
    "        output_word = \"\"\n",
    "        for word, idx in tokenizer.word_index.items():\n",
    "            if idx == index:\n",
    "                output_word = word\n",
    "                break\n",
    "        suggestions.append(text + \" \" + output_word)\n",
    "    \n",
    "    return suggestions\n",
    "\n",
    "\n"
   ]
  }
 ],
 "metadata": {
  "kernelspec": {
   "display_name": "Python 3 (ipykernel)",
   "language": "python",
   "name": "python3"
  },
  "language_info": {
   "codemirror_mode": {
    "name": "ipython",
    "version": 3
   },
   "file_extension": ".py",
   "mimetype": "text/x-python",
   "name": "python",
   "nbconvert_exporter": "python",
   "pygments_lexer": "ipython3",
   "version": "3.11.9"
  }
 },
 "nbformat": 4,
 "nbformat_minor": 5
}
